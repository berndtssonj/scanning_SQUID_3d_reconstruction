{
 "cells": [
  {
   "cell_type": "code",
   "execution_count": 1,
   "id": "2ba1b045-cabd-4c55-9c6b-cf7488893ddc",
   "metadata": {},
   "outputs": [],
   "source": [
    "import numpy as np\n",
    "import matplotlib.pyplot as plt\n",
    "import scipy\n",
    "from typing import Tuple"
   ]
  },
  {
   "cell_type": "markdown",
   "id": "db58724a-28d2-4c3f-9b09-88e4c738e8ba",
   "metadata": {},
   "source": [
    "# Simulating data"
   ]
  },
  {
   "cell_type": "markdown",
   "id": "8da9364c-36f9-4798-995f-c351640855b0",
   "metadata": {},
   "source": [
    "## Setting up functions"
   ]
  },
  {
   "cell_type": "code",
   "execution_count": 6,
   "id": "4c5a4111-974b-4ce9-87da-d9b3081e5cad",
   "metadata": {},
   "outputs": [],
   "source": [
    "mu0 =  1.25663706127*1e-6\n",
    "nm = 1e-9\n",
    "\n",
    "def rot_vec(angle_pairs: np.ndarray) -> np.ndarray:\n",
    "    theta_arr = angle_pairs[:,0]\n",
    "    phi_arr = angle_pairs[:,1]\n",
    "    res_mat = np.ones((len(angle_pairs), 3, 3))\n",
    "    \n",
    "    res_mat[:,0,0] = np.cos(theta_arr)*np.cos(phi_arr)\n",
    "    res_mat[:,0,1] = -np.cos(theta_arr)*np.sin(phi_arr)\n",
    "    res_mat[:,0,2] =  np.sin(theta_arr)\n",
    "    res_mat[:,1,0] = np.sin(phi_arr)\n",
    "    res_mat[:,1,1] =  np.cos(phi_arr)\n",
    "    res_mat[:,1,2] = np.zeros_like(phi_arr)\n",
    "    res_mat[:,2,0] = -np.sin(theta_arr)*np.cos(phi_arr)\n",
    "    res_mat[:,2,1] = np.sin(theta_arr)*np.sin(phi_arr)\n",
    "    res_mat[:,2,2] = np.cos(theta_arr)\n",
    "    \n",
    "    return res_mat\n",
    "\n",
    "def B_i_prime_vec_2(m_vec: np.ndarray, \n",
    "              coord_calc_vec: np.ndarray, \n",
    "              coord_center_vec: np.ndarray, \n",
    "              angle_pairs: np.ndarray\n",
    "             ) -> np.ndarray: \n",
    "    n_angles = len(angle_pairs)\n",
    "    n_coords = len(coord_calc_vec)\n",
    "    \n",
    "    coords_tuple = np.array(list(map(np.copy, [coord_calc_vec] * n_angles)))\n",
    "    coords_extended = coords_tuple.reshape((n_coords*n_angles, 3, 1))\n",
    "    idx_reord = np.array([n_angles*np.arange(n_coords) + ia for ia in range(n_angles)])# np.concatenate((3*np.arange(n_coords), 3*np.arange(n_coords) + 1, 3*np.arange(n_coords) + 2))\n",
    "    idx_reord = np.concatenate(idx_reord)\n",
    "    coord_calc_extended = coords_extended[idx_reord, :,:]\n",
    "    \n",
    "    coords0_tuple = np.array(list(map(np.copy, [coord_center_vec] * n_coords)))\n",
    "    coords0_extended = coords0_tuple.reshape((n_coords*n_angles, 3, 1))\n",
    "    \n",
    "    coords_diff_arr = coord_calc_extended - coords0_extended # dims n_coords*n_angles x 3 x 1\n",
    "    \n",
    "    rot_mats = rot_vec(angle_pairs)\n",
    "    rot_mats_tuple = np.array(list(map(np.copy, [rot_mats] * n_coords)))\n",
    "    rot_mats_extended = rot_mats_tuple.reshape((n_coords*n_angles, 3, 3))\n",
    "    \n",
    "    # these are correct\n",
    "    coords_diff_rot = np.einsum('ijk,ikl->ijl', rot_mats_extended, coords_diff_arr)\n",
    "\n",
    "    r_diff_arr = np.sqrt(np.power(coords_diff_rot[:,0,:], 2) + np.power(coords_diff_rot[:,1,:], 2) + np.power(coords_diff_rot[:,2,:], 2))\n",
    "    \n",
    "    m_vec_tuple = np.array(list(map(np.copy, [m_vec] * n_coords)))\n",
    "    m_vec_extended = m_vec_tuple.reshape((n_angles*n_coords, 1))\n",
    "    \n",
    "    # dims of coords_diff_arr: n_angles*n_coords x 3 x 1\n",
    "    # dims of r_diff_arr: n_angles*n_coords x 1\n",
    "    # dims of m_vec: n_angles*n_coords x 1\n",
    "    \n",
    "    Bx_prime = (3*m_vec_extended*mu0/(4*np.pi))*coords_diff_rot[:,0,:]*coords_diff_rot[:,2,:]/np.power(r_diff_arr, 5)\n",
    "    By_prime = (3*m_vec_extended*mu0/(4*np.pi))*coords_diff_rot[:,1,:]*coords_diff_rot[:,2,:]/np.power(r_diff_arr, 5)\n",
    "    Bz_prime = (m_vec_extended*mu0/(4*np.pi))*(3*np.power(coords_diff_rot[:,2,:], 2) - np.power(r_diff_arr, 2))/np.power(r_diff_arr, 5)\n",
    "    \n",
    "    return np.column_stack((Bx_prime,By_prime,Bz_prime)) # dims n_ang*n_coord x 3 ordered as (coords_a, m1), (coords_a, m2) ... (coords_a, mN) ... (coords_z, mN)\n",
    "\n",
    "def B_i_vec_3(m_vec: np.ndarray, \n",
    "              coord_calc_vec: np.ndarray, \n",
    "              coord_center_vec: np.ndarray, \n",
    "              angle_pairs: np.ndarray\n",
    "             ) -> np.ndarray: \n",
    "    n_angles = len(angle_pairs)\n",
    "    n_coords = len(coord_calc_vec)\n",
    "    \n",
    "    coords_tuple = np.array(list(map(np.copy, [coord_calc_vec] * n_angles)))\n",
    "    coords_extended = coords_tuple.reshape((n_coords*n_angles, 3, 1))\n",
    "    idx_reord = np.array([n_angles*np.arange(n_coords) + ia for ia in range(n_angles)])# np.concatenate((3*np.arange(n_coords), 3*np.arange(n_coords) + 1, 3*np.arange(n_coords) + 2))\n",
    "    idx_reord = np.concatenate(idx_reord)\n",
    "    coord_calc_extended = coords_extended[idx_reord, :,:]\n",
    "    \n",
    "    coords0_tuple = np.array(list(map(np.copy, [coord_center_vec] * n_coords)))\n",
    "    coords0_extended = coords0_tuple.reshape((n_coords*n_angles, 3, 1))\n",
    "    \n",
    "    coords_diff_arr = coord_calc_extended - coords0_extended # dims n_coords*n_angles x 3 x 1\n",
    "    \n",
    "    rot_mats = rot_vec(angle_pairs)\n",
    "    rot_mats_inv = np.array([np.linalg.inv(mat) for mat in rot_mats])\n",
    "    rot_mats_tuple = np.array(list(map(np.copy, [rot_mats_inv] * n_coords)))\n",
    "    rot_mats_extended = rot_mats_tuple.reshape((n_coords*n_angles, 3, 3))\n",
    "\n",
    "    r_diff_arr = np.sqrt(np.power(coords_diff_arr[:,0,:], 2) + np.power(coords_diff_arr[:,1,:], 2) + np.power(coords_diff_arr[:,2,:], 2))\n",
    "    \n",
    "    m_vec_tuple = np.array(list(map(np.copy, [m_vec] * n_coords)))\n",
    "    m_vec_extended = m_vec_tuple.reshape((n_angles*n_coords, 1))\n",
    "    \n",
    "    # dims of coords_diff_arr: n_angles*n_coords x 3 x 1\n",
    "    # dims of r_diff_arr: n_angles*n_coords x 1\n",
    "    # dims of m_vec: n_angles*n_coords x 1\n",
    "    \n",
    "    Bx_prime = (3*m_vec_extended*mu0/(4*np.pi))*coords_diff_arr[:,0,:]*coords_diff_arr[:,2,:]/np.power(r_diff_arr, 5)\n",
    "    By_prime = (3*m_vec_extended*mu0/(4*np.pi))*coords_diff_arr[:,1,:]*coords_diff_arr[:,2,:]/np.power(r_diff_arr, 5)\n",
    "    Bz_prime = (m_vec_extended*mu0/(4*np.pi))*(3*np.power(coords_diff_arr[:,2,:], 2) - np.power(r_diff_arr, 2))/np.power(r_diff_arr, 5)\n",
    "    \n",
    "    B_prime = np.column_stack((Bx_prime,By_prime,Bz_prime)).reshape((n_coords*n_angles,3,1))\n",
    "    \n",
    "    return np.einsum('ijk,ikl->ijl', rot_mats_extended, B_prime)\n",
    "\n",
    "# Calculates the components of the magnetic field in the lab frame for a magnetic dipole with magnitude m_i at orientation (theta_i, phi_i)\n",
    "def B_i_vec(m_vec: np.ndarray, \n",
    "        coord_calc_vec: np.ndarray, \n",
    "        coord_center_vec: np.ndarray, \n",
    "        angle_pairs: np.ndarray\n",
    "        ) -> np.ndarray:\n",
    "    # check\n",
    "    if len(m_vec) != len(angle_pairs):\n",
    "        print('Len of m_vec: ',len(m_vec),', Len of angle_pairs: ', len(angle_pairs))\n",
    "        raise ValueError('There is not a magnitude for each angle in the sample')\n",
    "    if len(m_vec) != len(coord_center_vec):\n",
    "        print('Len of m_vec: ',len(m_vec),', Len of center_coord: ', len(coord_center_vec))\n",
    "        raise ValueError('There is not a center coordinate for each dipole in the sample')\n",
    "    rot_mats = rot_vec(angle_pairs)\n",
    "    B_prime_array = B_i_prime_vec_2(m_vec, coord_calc_vec, coord_center_vec, angle_pairs) # output in dims 3 x n_coordinates\n",
    "    B_array = np.zeros(B_prime_array.shape)\n",
    "    #print('B prime array: ', B_prime_array)\n",
    "\n",
    "    n_dipoles = len(m_vec)\n",
    "    for i in range(n_dipoles):\n",
    "        rot_mat_inv = np.linalg.inv(rot_mats[i,:,:])\n",
    "        #print(rot_mat_inv.shape, B_prime_array[i,:].reshape((3,1)).shape, B_array[i,:].shape)\n",
    "        B_array[i,:] = np.matmul(rot_mat_inv, B_prime_array[i,:].reshape((3,1))).reshape((3,))\n",
    "        #print('B_array[i,:] for i=',i,' is ', np.matmul(rot_mat_inv, B_prime_array[i,:].reshape((3,1))).reshape((3,)))\n",
    "        \n",
    "    return B_array"
   ]
  },
  {
   "cell_type": "markdown",
   "id": "d59b8c1e-56d9-494f-a2a0-eeb5245041dc",
   "metadata": {
    "slideshow": {
     "slide_type": "-"
    }
   },
   "source": [
    "### Sanity checks 1"
   ]
  },
  {
   "cell_type": "code",
   "execution_count": null,
   "id": "0dacce65",
   "metadata": {},
   "outputs": [],
   "source": [
    "# Rotation matrices work when one pair of angles sent in\n",
    "rot_mat = rot_vec(np.array([[0,0]]))\n",
    "print('Expect:')\n",
    "print(np.identity(3))\n",
    "print('Obtain:')\n",
    "print(rot_mat)\n",
    "print()\n",
    "\n",
    "rot_mat = rot_vec(np.array([[0,np.pi]]))\n",
    "print('Expect:')\n",
    "print(np.array([[-1, 0, 0],[0, -1, 0],[0, 0, 1]]))\n",
    "print('Obtain:')\n",
    "print(rot_mat)\n",
    "print()\n",
    "\n",
    "rot_mat = rot_vec(np.array([[np.pi,0]]))\n",
    "print('Expect:')\n",
    "print(np.array([[-1, 0, 0],[0, 1, 0],[0, 0, -1]]))\n",
    "print('Obtain:')\n",
    "print(rot_mat)\n",
    "print()"
   ]
  },
  {
   "cell_type": "code",
   "execution_count": 35,
   "id": "5ab9de3e",
   "metadata": {
    "scrolled": false
   },
   "outputs": [
    {
     "name": "stdout",
     "output_type": "stream",
     "text": [
      "Expect:\n",
      "[[1. 0. 0.]\n",
      " [0. 1. 0.]\n",
      " [0. 0. 1.]]\n",
      "[[-1  0  0]\n",
      " [ 0 -1  0]\n",
      " [ 0  0  1]]\n",
      "[[-1  0  0]\n",
      " [ 0  1  0]\n",
      " [ 0  0 -1]]\n",
      "[[0 0 1]\n",
      " [1 0 0]\n",
      " [0 1 0]]\n",
      "Obtain:\n",
      "[[[ 1.00000000e+00 -0.00000000e+00  0.00000000e+00]\n",
      "  [ 0.00000000e+00  1.00000000e+00  0.00000000e+00]\n",
      "  [-0.00000000e+00  0.00000000e+00  1.00000000e+00]]\n",
      "\n",
      " [[-1.00000000e+00 -1.22464680e-16  0.00000000e+00]\n",
      "  [ 1.22464680e-16 -1.00000000e+00  0.00000000e+00]\n",
      "  [ 0.00000000e+00  0.00000000e+00  1.00000000e+00]]\n",
      "\n",
      " [[-1.00000000e+00  0.00000000e+00  1.22464680e-16]\n",
      "  [ 0.00000000e+00  1.00000000e+00  0.00000000e+00]\n",
      "  [-1.22464680e-16  0.00000000e+00 -1.00000000e+00]]\n",
      "\n",
      " [[ 3.74939946e-33 -6.12323400e-17  1.00000000e+00]\n",
      "  [ 1.00000000e+00  6.12323400e-17  0.00000000e+00]\n",
      "  [-6.12323400e-17  1.00000000e+00  6.12323400e-17]]]\n",
      "\n"
     ]
    }
   ],
   "source": [
    "# Rotation matrices work when several pairs of angles sent in\n",
    "rot_mat = rot_vec(np.array([[0,0], [0, np.pi], [np.pi, 0], [np.pi/2, np.pi/2]]))\n",
    "print('Expect:')\n",
    "print(np.identity(3))\n",
    "print(np.array([[-1, 0, 0],[0, -1, 0],[0, 0, 1]]))\n",
    "print(np.array([[-1, 0, 0],[0, 1, 0],[0, 0, -1]]))\n",
    "print(np.array([[0, 0, 1],[1, 0, 0],[0, 1, 0]]))\n",
    "print('Obtain:')\n",
    "print(rot_mat)\n",
    "print()"
   ]
  },
  {
   "cell_type": "markdown",
   "id": "a68e32ce",
   "metadata": {},
   "source": [
    "### Sanity checks 2"
   ]
  },
  {
   "cell_type": "code",
   "execution_count": 45,
   "id": "d17c2b70",
   "metadata": {},
   "outputs": [
    {
     "name": "stdout",
     "output_type": "stream",
     "text": [
      "Case: M_array=[[0,0,4*np.pi/mu0]], coords_0=[0,0,0]\n",
      "\n",
      "For coords_calc=[1,0,0], we expect:\n",
      "[0, 0, -1]\n",
      "\n",
      "For coords_calc=[0,0,1], we obtain\n",
      "For B_i_prime_vec_2:\n",
      "[[ 0.  0. -1.]]\n",
      "For B_i_vec:\n",
      "[[ 0.  0. -1.]]\n",
      "For B_i_vec_3:\n",
      "[[ 0.  0. -1.]]\n",
      "\n",
      "Case: M_array=[[np.pi/2,np.pi/2,4*np.pi/mu0]], coords_0=[0,0,0]\n",
      "\n",
      "For coords_calc=[1,0,0], we expect:\n",
      "[0, -1, 0]\n",
      "\n",
      "For coords_calc=[0,0,1], we obtain\n",
      "For B_i_vec:\n",
      "[[-1.2246468e-16 -1.0000000e+00 -6.1232340e-17]]\n",
      "For B_i_vec_3:\n",
      "[[ 6.123234e-17 -1.000000e+00 -6.123234e-17]]\n",
      "\n",
      "Case: M_array=[[np.pi/2,np.pi,4*np.pi/mu0]], coords_0=[0,0,0]\n",
      "\n",
      "For coords_calc=[1,0,0], we expect:\n",
      "[-1, 0, 0]\n",
      "\n",
      "For coords_calc=[0,0,1], we obtain\n",
      "For B_i_vec:\n",
      "[[ 2.0000000e+00 -1.2246468e-16 -6.1232340e-17]]\n",
      "For B_i_vec_3:\n",
      "[[-1.0000000e+00 -1.2246468e-16 -6.1232340e-17]]\n"
     ]
    }
   ],
   "source": [
    "# Magnetic field for one dipole at one coordinate, no rotations\n",
    "\n",
    "print('Case: M_array=[[0,0,4*np.pi/mu0]], coords_0=[0,0,0]')\n",
    "print()\n",
    "print('For coords_calc=[1,0,0], we expect:')\n",
    "print([0,0,-1])\n",
    "\n",
    "M_array = np.array([[0,0,4*np.pi/mu0]])\n",
    "coords_0 = np.array([[0,0,0]])\n",
    "coord_calc = np.array([[1,0,0]])\n",
    "\n",
    "angle_pair = M_array[:,:2]\n",
    "m_vec = M_array[:,2]\n",
    "\n",
    "b_prime_vec_2_res = B_i_prime_vec_2(m_vec, \n",
    "              coord_calc, \n",
    "              coords_0, \n",
    "              angle_pair\n",
    "             )\n",
    "b_vec = B_i_vec(m_vec, \n",
    "              coord_calc, \n",
    "              coords_0, \n",
    "              angle_pair)\n",
    "\n",
    "b_vec_3 = B_i_vec_3(m_vec, \n",
    "              coord_calc, \n",
    "              coords_0, \n",
    "              angle_pair)\n",
    "print()\n",
    "print('For coords_calc=[0,0,1], we obtain')\n",
    "print('For B_i_prime_vec_2:')\n",
    "print(b_prime_vec_2_res)\n",
    "print('For B_i_vec:')\n",
    "print(b_vec)\n",
    "print('For B_i_vec_3:')\n",
    "print(b_vec_3.reshape((1,3)))\n",
    "\n",
    "print('')\n",
    "print('Case: M_array=[[np.pi/2,np.pi/2,4*np.pi/mu0]], coords_0=[0,0,0]')\n",
    "print()\n",
    "print('For coords_calc=[1,0,0], we expect:')\n",
    "print([0,-1,0])\n",
    "\n",
    "# Magnetic field for one dipole at one coordinate, with rotations\n",
    "M_array = np.array([[np.pi/2,np.pi/2,4*np.pi/mu0]])\n",
    "coords_0 = np.array([[0,0,0]])\n",
    "coord_calc = np.array([[1,0,0]])\n",
    "\n",
    "angle_pair = M_array[:,:2]\n",
    "m_vec = M_array[:,2]\n",
    "\n",
    "b_vec = B_i_vec(m_vec, \n",
    "              coord_calc, \n",
    "              coords_0, \n",
    "              angle_pair)\n",
    "\n",
    "b_vec_3 = B_i_vec_3(m_vec, \n",
    "              coord_calc, \n",
    "              coords_0, \n",
    "              angle_pair)\n",
    "print()\n",
    "print('For coords_calc=[0,0,1], we obtain')\n",
    "print('For B_i_vec:')\n",
    "print(b_vec)\n",
    "print('For B_i_vec_3:')\n",
    "print(b_vec_3.reshape((1,3)))\n",
    "\n",
    "\n",
    "print('')\n",
    "print('Case: M_array=[[np.pi/2,np.pi,4*np.pi/mu0]], coords_0=[0,0,0]')\n",
    "print()\n",
    "print('For coords_calc=[1,0,0], we expect:')\n",
    "print([-1,0,0])\n",
    "# Magnetic field for one dipole at one coordinate, with rotations\n",
    "M_array = np.array([[np.pi/2,np.pi,4*np.pi/mu0]])\n",
    "coords_0 = np.array([[0,0,0]])\n",
    "coord_calc = np.array([[1,0,0]])\n",
    "\n",
    "angle_pair = M_array[:,:2]\n",
    "m_vec = M_array[:,2]\n",
    "\n",
    "b_vec = B_i_vec(m_vec, \n",
    "              coord_calc, \n",
    "              coords_0, \n",
    "              angle_pair)\n",
    "\n",
    "b_vec_3 = B_i_vec_3(m_vec, \n",
    "              coord_calc, \n",
    "              coords_0, \n",
    "              angle_pair)\n",
    "print()\n",
    "print('For coords_calc=[0,0,1], we obtain')\n",
    "print('For B_i_vec:')\n",
    "print(b_vec)\n",
    "print('For B_i_vec_3:')\n",
    "print(b_vec_3.reshape((1,3)))"
   ]
  },
  {
   "cell_type": "markdown",
   "id": "aac9e475",
   "metadata": {},
   "source": [
    "### Sanity Check 3"
   ]
  },
  {
   "cell_type": "code",
   "execution_count": 52,
   "id": "376d4556",
   "metadata": {},
   "outputs": [
    {
     "name": "stdout",
     "output_type": "stream",
     "text": [
      "Case: M_array=[[0,0,4*np.pi/mu0]], coords_0=[0,0,0]\n",
      "\n",
      "For coords_calc=[[1,0,0], [0,1,0], [0,0,1]], we expect:\n",
      "[[0, 0, -1], [0, 0, -1], [0, 0, 2]]\n",
      "\n",
      "For coords_calc=[[1,0,0], [0,1,0], [0,0,1]], we obtain\n",
      "For B_i_vec:\n",
      "[[ 0.  0. -1.]\n",
      " [ 0.  0.  0.]\n",
      " [ 0.  0.  0.]]\n",
      "For B_i_vec_3:\n",
      "[[ 0.  0. -1.]\n",
      " [ 0.  0. -1.]\n",
      " [ 0.  0.  2.]]\n"
     ]
    }
   ],
   "source": [
    "# Magnetic field for one dipole at two coordinates, no rotations\n",
    "\n",
    "print('Case: M_array=[[0,0,4*np.pi/mu0]], coords_0=[0,0,0]')\n",
    "print()\n",
    "print('For coords_calc=[[1,0,0], [0,1,0], [0,0,1]], we expect:')\n",
    "print([[0,0,-1], [0,0,-1], [0,0,2]])\n",
    "\n",
    "M_array = np.array([[0,0,4*np.pi/mu0]])\n",
    "coords_0 = np.array([[0,0,0]])\n",
    "coord_calc = np.array([[1,0,0], [0,1,0], [0,0,1]])\n",
    "\n",
    "angle_pair = M_array[:,:2]\n",
    "m_vec = M_array[:,2]\n",
    "\n",
    "b_vec = B_i_vec(m_vec, \n",
    "              coord_calc, \n",
    "              coords_0, \n",
    "              angle_pair)\n",
    "\n",
    "b_vec_3 = B_i_vec_3(m_vec, \n",
    "              coord_calc, \n",
    "              coords_0, \n",
    "              angle_pair)\n",
    "print()\n",
    "print('For coords_calc=[[1,0,0], [0,1,0], [0,0,1]], we obtain')\n",
    "print('For B_i_vec:')\n",
    "print(b_vec)\n",
    "print('For B_i_vec_3:')\n",
    "print(b_vec_3.reshape((3,3)))"
   ]
  },
  {
   "cell_type": "code",
   "execution_count": 54,
   "id": "d92ec83b",
   "metadata": {},
   "outputs": [
    {
     "name": "stdout",
     "output_type": "stream",
     "text": [
      "Case: M_array=[[np.pi/2,np.pi/2,4*np.pi/mu0]], coords_0=[0,0,0]\n",
      "\n",
      "For coords_calc=[[1,0,0], [0,1,0], [0,0,1]], we expect:\n",
      "[[0, -1, 0], [0, 2, 0], [0, -1, 0]]\n",
      "\n",
      "For coords_calc=[[1,0,0], [0,1,0], [0,0,1]], we obtain\n",
      "For B_i_vec_3:\n",
      "[[ 6.1232340e-17 -1.0000000e+00 -6.1232340e-17]\n",
      " [ 6.1232340e-17 -1.0000000e+00 -6.1232340e-17]\n",
      " [-1.2246468e-16  2.0000000e+00  1.2246468e-16]]\n"
     ]
    }
   ],
   "source": [
    "# Magnetic field for one dipole at three coordinates, with rotations\n",
    "\n",
    "print('Case: M_array=[[np.pi/2,np.pi/2,4*np.pi/mu0]], coords_0=[0,0,0]')\n",
    "print()\n",
    "print('For coords_calc=[[1,0,0], [0,1,0], [0,0,1]], we expect:')\n",
    "print([[0,-1,0], [0,2,0], [0,-1,0]])\n",
    "\n",
    "M_array = np.array([[np.pi/2,np.pi/2,4*np.pi/mu0]])\n",
    "coords_0 = np.array([[0,0,0]])\n",
    "coord_calc = np.array([[1,0,0], [0,1,0], [0,0,1]])\n",
    "\n",
    "angle_pair = M_array[:,:2]\n",
    "m_vec = M_array[:,2]\n",
    "\n",
    "b_vec_3 = B_i_vec_3(m_vec, \n",
    "              coord_calc, \n",
    "              coords_0, \n",
    "              angle_pair)\n",
    "print()\n",
    "print('For coords_calc=[[1,0,0], [0,1,0], [0,0,1]], we obtain')\n",
    "print('For B_i_vec_3:')\n",
    "print(b_vec_3.reshape((3,3)))"
   ]
  },
  {
   "cell_type": "markdown",
   "id": "8cf742c1",
   "metadata": {},
   "source": [
    "### Sanity Check 4"
   ]
  },
  {
   "cell_type": "code",
   "execution_count": 101,
   "id": "679e7015",
   "metadata": {},
   "outputs": [
    {
     "name": "stdout",
     "output_type": "stream",
     "text": [
      "Case: M_array=[[0,0,4*np.pi/mu0], [0,0,4*np.pi/mu0]], coords_0=[[0,0,0], [1,0,0]]\n",
      "\n",
      "For coords_calc=[[0,1,0]], we expect:\n",
      "[[0, 0, -1], [0, 0, -0.33]]\n",
      "\n",
      "For coords_calc=[[0,1,0]], we obtain\n",
      "For B_i_vec_3:\n",
      "[[[ 0.          0.         -1.        ]]\n",
      "\n",
      " [[ 0.          0.         -0.35355339]]]\n",
      "\n",
      "Case: M_array=[[0,0,4*np.pi/mu0], [0,0, 4*np.pi/mu0]], coords_0=[[0,0,0], [1,0,0]]\n",
      "\n",
      "\n",
      "For coords_calc=[0,1,0] coords_0=[0,0,0] no rot, we expect:\n",
      "[[0, 0, -1]]\n",
      "For coords_calc=[0,0,1] coords_0=[1,0,1] no rot, we expect:\n",
      "[[0, 0, 2]]\n",
      "\n",
      "For coords_calc=[[0,0,1] , [0,1,0]], we obtain\n",
      "For B_i_vec_3:\n",
      "[[ 0.  0. -1.]]\n",
      "[[0. 0. 2.]]\n",
      "Case: M_array=[[0,0,4*np.pi/mu0], [np.pi/2,0, 4*np.pi/mu0]], coords_0=[[0,0,0], [1,0,0]]\n",
      "\n",
      "\n",
      "For coords_calc=[0,1,0] coords_0=[0,0,0] no rot, we expect:\n",
      "[[0, 0, -1]]\n",
      "For coords_calc=[0,0,1] coords_0=[1,0,1] no rot, we expect:\n",
      "[[0, 0, -1]]\n",
      "\n",
      "For coords_calc=[[0,0,1] , [1,1,0]], we obtain\n",
      "For B_i_vec_3:\n",
      "[[ 0.  0. -1.]]\n",
      "[[ 0.  0. -1.]]\n"
     ]
    }
   ],
   "source": [
    "# Magnetic field for two dipoles at one coordinate, with rotations\n",
    "\n",
    "print('Case: M_array=[[0,0,4*np.pi/mu0], [0,0,4*np.pi/mu0]], coords_0=[[0,0,0], [1,0,0]]')\n",
    "print()\n",
    "print('For coords_calc=[[0,1,0]], we expect:')\n",
    "print([[0,0,-1], [0,0,-0.33]])\n",
    "\n",
    "M_array = np.array([[0,0,4*np.pi/mu0], [0,0,4*np.pi/mu0]])\n",
    "coords_0 = np.array([[0,0,0], [1,0,0]])\n",
    "coord_calc = np.array([[0,1,0]])\n",
    "\n",
    "angle_pair = M_array[:,:2]\n",
    "m_vec = M_array[:,2]\n",
    "\n",
    "b_vec_3 = B_i_vec_3(m_vec, \n",
    "              coord_calc, \n",
    "              coords_0, \n",
    "              angle_pair)\n",
    "\n",
    "print()\n",
    "print('For coords_calc=[[0,1,0]], we obtain')\n",
    "print('For B_i_vec_3:')\n",
    "print(b_vec_3.reshape((2,1,3)))\n",
    "print()\n",
    "print('Case: M_array=[[0,0,4*np.pi/mu0], [0,0, 4*np.pi/mu0]], coords_0=[[0,0,0], [1,0,0]]')\n",
    "print()\n",
    "\n",
    "\n",
    "M_array = np.array([[0,0,4*np.pi/mu0], [0,0, 4*np.pi/mu0]])\n",
    "coords_0 = np.array([[0,0,0], [1,0,0]])\n",
    "coord_calc = np.array([[0,1,0], [1,0,1]])\n",
    "\n",
    "\n",
    "\n",
    "angle_pair = M_array[:,:2]\n",
    "m_vec = M_array[:,2]\n",
    "\n",
    "b_vec_3 = B_i_vec_3(m_vec, \n",
    "              coord_calc, \n",
    "              coords_0, \n",
    "              angle_pair)\n",
    "print()\n",
    "print('For coords_calc=[0,1,0] coords_0=[0,0,0] no rot, we expect:')\n",
    "print([[0,0,-1]])\n",
    "print('For coords_calc=[0,0,1] coords_0=[1,0,1] no rot, we expect:')\n",
    "print([[0,0,2]])\n",
    "print()\n",
    "print('For coords_calc=[[0,0,1] , [0,1,0]], we obtain')\n",
    "print('For B_i_vec_3:')\n",
    "res = b_vec_3.reshape((4,1,3))\n",
    "print(res[0])\n",
    "print(res[3])\n",
    "\n",
    "print('Case: M_array=[[0,0,4*np.pi/mu0], [np.pi/2,0, 4*np.pi/mu0]], coords_0=[[0,0,0], [1,0,0]]')\n",
    "print()\n",
    "\n",
    "\n",
    "M_array = np.array([[0,0,4*np.pi/mu0], [0,0, 4*np.pi/mu0]])\n",
    "coords_0 = np.array([[0,0,0], [1,0,0]])\n",
    "coord_calc = np.array([[0,1,0], [1,1,0]])\n",
    "\n",
    "\n",
    "\n",
    "angle_pair = M_array[:,:2]\n",
    "m_vec = M_array[:,2]\n",
    "\n",
    "b_vec_3 = B_i_vec_3(m_vec, \n",
    "              coord_calc, \n",
    "              coords_0, \n",
    "              angle_pair)\n",
    "print()\n",
    "print('For coords_calc=[0,1,0] coords_0=[0,0,0] no rot, we expect:')\n",
    "print([[0,0,-1]])\n",
    "print('For coords_calc=[0,0,1] coords_0=[1,0,1] no rot, we expect:')\n",
    "print([[0,0,-1]])\n",
    "print()\n",
    "print('For coords_calc=[[0,0,1] , [1,1,0]], we obtain')\n",
    "print('For B_i_vec_3:')\n",
    "res = b_vec_3.reshape((4,1,3))\n",
    "print(res[0])\n",
    "print(res[3])"
   ]
  },
  {
   "cell_type": "markdown",
   "id": "d82422a7-32cc-4f57-b098-60aab396ea30",
   "metadata": {},
   "source": [
    "## Generating a magnetized sample"
   ]
  },
  {
   "cell_type": "code",
   "execution_count": 7,
   "id": "e688d8bf-78e4-47ac-b4ad-09b4d4ff129f",
   "metadata": {},
   "outputs": [
    {
     "name": "stdout",
     "output_type": "stream",
     "text": [
      "Original dimensions (x, y ,z) in nm:  100.0 100.0 10.0\n",
      "Dimensions after discretization (x, y ,z) in nm:  99.99999999999999 99.99999999999999 10.0\n"
     ]
    }
   ],
   "source": [
    "# Ideal ferromagnet\n",
    "\n",
    "# Define size and meshing\n",
    "x_sample_size = 100*nm\n",
    "y_sample_size = 100*nm\n",
    "z_sample_size = 10*nm\n",
    "\n",
    "x_discretization_size = 5*nm\n",
    "y_discretization_size = 5*nm\n",
    "z_discretization_size = 10*nm\n",
    "\n",
    "nx = int(x_sample_size/x_discretization_size)\n",
    "ny = int(y_sample_size/y_discretization_size)\n",
    "nz = int(z_sample_size/z_discretization_size)\n",
    "print('Original dimensions (x, y ,z) in nm: ', x_sample_size/nm, y_sample_size/nm, z_sample_size/nm)\n",
    "print('Dimensions after discretization (x, y ,z) in nm: ', nx*x_discretization_size/nm, ny*y_discretization_size/nm, nz*z_discretization_size/nm)\n",
    "\n",
    "sample_dimensions = (x_sample_size, y_sample_size, z_sample_size)\n",
    "sample_discretization_size = (x_discretization_size, y_discretization_size, z_discretization_size)\n",
    "sample_grid = (nx, ny, nz)\n",
    "\n",
    "# Stores magnetization as three values for each position coordinate: m_i, theta_i, phi_i\n",
    "M_array = np.zeros((nx, ny, nz, 3))\n",
    "M_array[:,:,:,0] = np.ones((nx, ny, nz))\n",
    "M_array[:,:,:,1] = np.zeros((nx, ny, nz))\n",
    "M_array[:,:,:,2] = np.zeros((nx, ny, nz))\n",
    "\n",
    "# Stores magnetization as three values for each position coordinate: m_i_x, m_i_y, m_i_z\n",
    "M_array_cartesian = np.ones_like(M_array) \n",
    "M_array_cartesian[:,:,:,2] = np.multiply(M_array[:,:,:,0], np.cos(M_array[:,:,:,1]))\n",
    "M_array_cartesian[:,:,:,0] = np.multiply(np.multiply(M_array[:,:,:,0], np.sin(M_array[:,:,:,1])), np.cos(M_array[:,:,:,2]))\n",
    "M_array_cartesian[:,:,:,1] = np.multiply(np.multiply(M_array[:,:,:,0], np.sin(M_array[:,:,:,1])), np.sin(M_array[:,:,:,2]))\n"
   ]
  },
  {
   "cell_type": "markdown",
   "id": "625e706e-e598-4c51-9de3-2bf8cd235044",
   "metadata": {},
   "source": [
    "### Visualizing magnetization of sample"
   ]
  },
  {
   "cell_type": "code",
   "execution_count": 8,
   "id": "f16db62d-27bb-46a9-9bbb-60f95f27ab2c",
   "metadata": {},
   "outputs": [
    {
     "data": {
      "text/plain": [
       "Text(0.5, 0, 'Z')"
      ]
     },
     "execution_count": 8,
     "metadata": {},
     "output_type": "execute_result"
    },
    {
     "data": {
      "image/png": "[encoded data removed]",
      "text/plain": [
       "<Figure size 432x288 with 1 Axes>"
      ]
     },
     "metadata": {
      "needs_background": "light"
     },
     "output_type": "display_data"
    }
   ],
   "source": [
    "ax = plt.figure().add_subplot(projection='3d')\n",
    "x, y, z = np.meshgrid(np.arange(-x_sample_size/nm/2+x_discretization_size/nm/2, x_sample_size/nm/2, x_discretization_size/nm),\n",
    "                      np.arange(-y_sample_size/nm/2+y_discretization_size/nm/2, y_sample_size/nm/2, y_discretization_size/nm),\n",
    "                      np.arange(-z_sample_size/nm/2+z_discretization_size/nm/2, z_sample_size/nm/2, z_discretization_size/nm))\n",
    "\n",
    "u = M_array_cartesian[:,:,:,0]\n",
    "v = M_array_cartesian[:,:,:,1]\n",
    "w = M_array_cartesian[:,:,:,2]\n",
    "\n",
    "ax.quiver(x, y, z, u, v, w, length=0.75*z_discretization_size/nm, normalize=False)\n",
    "ax.set_xlim(-x_sample_size/nm/2, x_sample_size/nm/2)\n",
    "ax.set_ylim(-y_sample_size/nm/2, y_sample_size/nm/2)\n",
    "ax.set_zlim(-50, 50)\n",
    "ax.set_xlabel('X')\n",
    "ax.set_ylabel('Y')\n",
    "ax.set_zlabel('Z')"
   ]
  },
  {
   "cell_type": "markdown",
   "id": "b4c12f4c-5ddc-4e10-b4d7-591d37aae61d",
   "metadata": {},
   "source": [
    "## Calculate magnetic field from sample at an arbitract point in space"
   ]
  },
  {
   "cell_type": "code",
   "execution_count": 103,
   "id": "c47d4fdd-028f-461d-8ad4-2921e05d12bd",
   "metadata": {},
   "outputs": [],
   "source": [
    "def B_at_coord_vec(coord_calc_arr: np.ndarray, # n_coord x 3\n",
    "               M_array: np.ndarray, \n",
    "               sample_dims: Tuple[float, float, float], \n",
    "               sample_disc: Tuple[float, float, float], \n",
    "               sample_grid: Tuple[int, int, int]\n",
    "              ) -> Tuple[float, float, float]:\n",
    "    \n",
    "    B_vec = np.zeros((3,len(coord_calc_arr)))\n",
    "    n_coord = len(coord_calc_arr)\n",
    "    \n",
    "    center_coord_grid = np.mgrid[0:sample_grid[0], 0:sample_grid[1],0:sample_grid[2]]\n",
    "    #center_coord_arr = np.zeros(center_coord_grid.shape)\n",
    "    x_0_i_arr = (center_coord_grid[0,:,:,:].copy()*sample_discretization_size[0] -sample_dimensions[0]/2+sample_discretization_size[0]/2).flatten() \n",
    "    y_0_i_arr = (center_coord_grid[1,:,:,:].copy()*sample_discretization_size[1] -sample_dimensions[1]/2+sample_discretization_size[1]/2).flatten()\n",
    "    z_0_i_arr = (center_coord_grid[2,:,:,:].copy()*sample_discretization_size[2] -sample_dimensions[2]/2+sample_discretization_size[2]/2).flatten()\n",
    "    #center_coord_arr[0,:,:,:] = (center_coord_grid[0,:,:,:].copy()*sample_discretization_size[0] -sample_dimensions[0]/2+sample_discretization_size[0]/2).copy() \n",
    "    #center_coord_arr[1,:,:,:] = (center_coord_grid[1,:,:,:].copy()*sample_discretization_size[1] -sample_dimensions[1]/2+sample_discretization_size[1]/2).copy()\n",
    "    #center_coord_arr[2,:,:,:] = (center_coord_grid[2,:,:,:].copy()*sample_discretization_size[2] -sample_dimensions[2]/2+sample_discretization_size[2]/2).copy()\n",
    "    \n",
    "    # extract magnitude and angles\n",
    "    m_i_arr = M_array[:, :, :, 0].flatten()\n",
    "    theta_i_arr = M_array[:, :, :, 1].flatten().reshape(-1,1)\n",
    "    phi_i_arr = M_array[:, :, :, 2].flatten().reshape(-1,1)\n",
    "    \n",
    "    # create pairs array\n",
    "    pairs_array = np.hstack((theta_i_arr, phi_i_arr))\n",
    "    n_angles = len(pairs_array)\n",
    "    coords_0_array = np.vstack((x_0_i_arr, y_0_i_arr, z_0_i_arr)).reshape((n_angles, 3))\n",
    "    #print('with vstack: ', coords_0_array.shape)\n",
    "    print(coords_0_array)\n",
    "    print(pairs_array)\n",
    "    \n",
    "    B_components = B_i_vec(m_i_arr, coord_calc_arr, coords_0_array, pairs_array) # dimensions n_ang*n_coord x 3\n",
    "    B_vec = np.sum(B_components.reshape((n_angles, n_coord, 3)), axis = 0)\n",
    "    print('B_components shape ', B_components.shape)\n",
    "    print('B_components ', B_components)\n",
    "    print('B_components reshape shape ', B_components.reshape((n_angles, n_coord, 3)).shape)\n",
    "    print('B_vec shape ', B_vec.shape)\n",
    "\n",
    "    return B_vec"
   ]
  },
  {
   "cell_type": "code",
   "execution_count": 9,
   "id": "ff12fe51",
   "metadata": {},
   "outputs": [],
   "source": [
    "def B_at_coord_vec_3(coord_calc_arr: np.ndarray, # n_coord x 3\n",
    "               M_array: np.ndarray, \n",
    "               sample_dims: Tuple[float, float, float], \n",
    "               sample_disc: Tuple[float, float, float], \n",
    "               sample_grid: Tuple[int, int, int]\n",
    "              ) -> Tuple[float, float, float]:\n",
    "    \n",
    "    B_vec = np.zeros((3,len(coord_calc_arr)))\n",
    "    n_coord = len(coord_calc_arr)\n",
    "    \n",
    "    center_coord_grid = np.mgrid[0:sample_grid[0], 0:sample_grid[1],0:sample_grid[2]]\n",
    "    #center_coord_arr = np.zeros(center_coord_grid.shape)\n",
    "    x_0_i_arr = (center_coord_grid[0,:,:,:].copy()*sample_discretization_size[0] -sample_dimensions[0]/2+sample_discretization_size[0]/2).flatten() \n",
    "    y_0_i_arr = (center_coord_grid[1,:,:,:].copy()*sample_discretization_size[1] -sample_dimensions[1]/2+sample_discretization_size[1]/2).flatten()\n",
    "    z_0_i_arr = (center_coord_grid[2,:,:,:].copy()*sample_discretization_size[2] -sample_dimensions[2]/2+sample_discretization_size[2]/2).flatten()\n",
    "    #center_coord_arr[0,:,:,:] = (center_coord_grid[0,:,:,:].copy()*sample_discretization_size[0] -sample_dimensions[0]/2+sample_discretization_size[0]/2).copy() \n",
    "    #center_coord_arr[1,:,:,:] = (center_coord_grid[1,:,:,:].copy()*sample_discretization_size[1] -sample_dimensions[1]/2+sample_discretization_size[1]/2).copy()\n",
    "    #center_coord_arr[2,:,:,:] = (center_coord_grid[2,:,:,:].copy()*sample_discretization_size[2] -sample_dimensions[2]/2+sample_discretization_size[2]/2).copy()\n",
    "    \n",
    "    # extract magnitude and angles\n",
    "    m_i_arr = M_array[:, :, :, 0].flatten()\n",
    "    theta_i_arr = M_array[:, :, :, 1].flatten().reshape(-1,1)\n",
    "    phi_i_arr = M_array[:, :, :, 2].flatten().reshape(-1,1)\n",
    "    \n",
    "    # create pairs array\n",
    "    pairs_array = np.hstack((theta_i_arr, phi_i_arr))\n",
    "    n_angles = len(pairs_array)\n",
    "    #print('n_angles ', n_angles)\n",
    "    coords_0_array = np.column_stack((x_0_i_arr, y_0_i_arr, z_0_i_arr)).reshape((n_angles, 3))\n",
    "    \n",
    "    B_components = B_i_vec_3(m_i_arr, coord_calc_arr, coords_0_array, pairs_array) # dimensions n_ang*n_coord x 3\n",
    "    B_vec = np.sum(B_components.reshape((n_coord, n_angles, 3)), axis = 1)\n",
    "    #print('B_components shape ', B_components.shape)\n",
    "    #print('B_components ', B_components)\n",
    "    #print('B_components reshape shape ', B_components.reshape((n_angles, n_coord, 3)).shape)\n",
    "    #print('B_vec shape ', B_vec.shape)\n",
    "\n",
    "    return B_vec"
   ]
  },
  {
   "cell_type": "markdown",
   "id": "dbca1676-7033-4f75-ba5a-8e52b612e859",
   "metadata": {},
   "source": [
    "### Sanity checks"
   ]
  },
  {
   "cell_type": "code",
   "execution_count": 215,
   "id": "73f03c66",
   "metadata": {},
   "outputs": [
    {
     "name": "stdout",
     "output_type": "stream",
     "text": [
      "Field components at (0,0,d) [[0.00000000e+00 0.00000000e+00 6.39904009e+12]]\n",
      "Field components at (d,0,0) [[ 0.00000000e+00  0.00000000e+00 -3.20035999e+12]]\n",
      "Field components at (0,0,10d) [[0.0000000e+00 0.0000000e+00 6.3999904e+09]]\n"
     ]
    }
   ],
   "source": [
    "\n",
    "coord_calc_arr = np.array([[0, 0, dist_to_sample]])\n",
    "print(\"Field components at (0,0,d)\", B_at_coord_vec_3(coord_calc_arr, M_array, sample_dimensions, sample_discretization_size, sample_grid))\n",
    "\n",
    "#coord_calc = (dist_to_sample, dist_to_sample, dist_to_sample)\n",
    "#print(\"Field components at (d,d,d)\", B_at_coord(coord_calc, M_array, sample_dimensions, sample_discretization_size, sample_grid))\n",
    "\n",
    "#coord_calc = (-dist_to_sample, -dist_to_sample, dist_to_sample)\n",
    "#print(\"Field components at (-d,-d,d)\", B_at_coord(coord_calc, M_array, sample_dimensions, sample_discretization_size, sample_grid))\n",
    "\n",
    "coord_calc_arr = np.array([[dist_to_sample, 0, 0]])\n",
    "print(\"Field components at (d,0,0)\", B_at_coord_vec_3(coord_calc_arr, M_array, sample_dimensions, sample_discretization_size, sample_grid))\n",
    "\n",
    "coord_calc_arr = np.array([[0, 0, 10*dist_to_sample]])\n",
    "print(\"Field components at (0,0,10d)\", B_at_coord_vec_3(coord_calc_arr, M_array, sample_dimensions, sample_discretization_size, sample_grid))"
   ]
  },
  {
   "cell_type": "markdown",
   "id": "5df46305-9b5c-496e-b365-cfd2e63073ca",
   "metadata": {},
   "source": [
    "## Define probe and fluctuations"
   ]
  },
  {
   "cell_type": "code",
   "execution_count": 38,
   "id": "f823644d-fdb9-48ce-9352-6b76f659150f",
   "metadata": {},
   "outputs": [],
   "source": [
    "probe_side = 50*nm\n",
    "dist_to_sample = 500*nm\n",
    "\n",
    "probe_area = probe_side**2\n",
    "\n",
    "delta_a = 2*nm\n",
    "del_x = 5*nm\n",
    "del_y = 5*nm"
   ]
  },
  {
   "cell_type": "markdown",
   "id": "09cad4c3-78ef-44ef-8499-f5869efba661",
   "metadata": {},
   "source": [
    "## Calculating magnetic flux through SQUID loop at distance d above sample center"
   ]
  },
  {
   "cell_type": "code",
   "execution_count": 23,
   "id": "0e375ee8",
   "metadata": {},
   "outputs": [],
   "source": [
    "# vectorized\n",
    "meshing_probe = (int(probe_side/delta_a), int(probe_side/delta_a)) # nx, ny\n",
    "da_probe = probe_side/meshing_probe[0]\n",
    "coord_calc = (0, 0, dist_to_sample)\n",
    "\n",
    "xt, yt = np.meshgrid(np.arange(meshing_probe[0]), np.arange(meshing_probe[1]))\n",
    "\n",
    "coord_calc_array = np.zeros((meshing_probe[0]*meshing_probe[1],3))\n",
    "coord_calc_array[:,0] = coord_calc[0]-probe_side/2 + delta_a*(xt.flatten() + 0.5)\n",
    "coord_calc_array[:,1] = coord_calc[1]-probe_side/2 + delta_a*(yt.flatten() + 0.5)\n",
    "coord_calc_array[:,2] = coord_calc[2]\n",
    "\n",
    "B_probe_units = B_at_coord_vec_3(coord_calc_array, M_array, sample_dimensions, sample_discretization_size, sample_grid)\n",
    "\n",
    "B_probe_z = B_probe_units[:,2]\n",
    "flux_arr = B_probe_z.reshape(meshing_probe)*(da_probe**2)\n",
    "\n",
    "\n",
    "#for ix in range(meshing_probe[0]):\n",
    "#    for iy in range(meshing_probe[1]):\n",
    "#        print(ix, iy)\n",
    "#        coord_calc_ix_iy = (coord_calc[0]-probe_side/2 + delta_a*(ix + 0.5), coord_calc[1]-probe_side/2 + delta_a*(iy + 0.5), coord_calc[2])\n",
    "#        B_probe_segment = B_at_coord(coord_calc_ix_iy, M_array, sample_dimensions, sample_discretization_size, sample_grid)\n",
    "#        flux_arr[ix, iy] = B_probe_segment[2]*(da_probe**2)"
   ]
  },
  {
   "cell_type": "markdown",
   "id": "28181d90-43c4-4a02-9ae6-09b3b1e2e504",
   "metadata": {},
   "source": [
    "### Plotting magnetic flux per unit cell of probe meshing"
   ]
  },
  {
   "cell_type": "code",
   "execution_count": 24,
   "id": "b1ab74ea-eb66-4965-bb43-6e9a127c2b65",
   "metadata": {},
   "outputs": [
    {
     "name": "stderr",
     "output_type": "stream",
     "text": [
      "/var/folders/zx/flxs9k9j3q1fr05sp0xh1kj40000gn/T/ipykernel_30713/1814971251.py:2: MatplotlibDeprecationWarning: shading='flat' when X and Y have the same dimensions as C is deprecated since 3.3.  Either specify the corners of the quadrilaterals with X and Y, or pass shading='auto', 'nearest' or 'gouraud', or set rcParams['pcolor.shading'].  This will become an error two minor releases later.\n",
      "  im = plt.pcolormesh(np.linspace(0,1,meshing_probe[0]), np.linspace(0,1,meshing_probe[1]), flux_arr)\n"
     ]
    },
    {
     "data": {
      "text/plain": [
       "<matplotlib.colorbar.Colorbar at 0x7fab42bc8c10>"
      ]
     },
     "execution_count": 24,
     "metadata": {},
     "output_type": "execute_result"
    },
    {
     "data": {
      "image/png": "[encoded data removed]",
      "text/plain": [
       "<Figure size 432x288 with 2 Axes>"
      ]
     },
     "metadata": {
      "needs_background": "light"
     },
     "output_type": "display_data"
    }
   ],
   "source": [
    "fig, ax = plt.subplots()\n",
    "im = plt.pcolormesh(np.linspace(0,1,meshing_probe[0]), np.linspace(0,1,meshing_probe[1]), flux_arr)\n",
    "fig.colorbar(im, ax=ax)\n",
    "\n",
    "# why stripes? would have expected rotational invariance"
   ]
  },
  {
   "cell_type": "code",
   "execution_count": 25,
   "id": "a1e9cf5f-3a9a-412c-ace3-7f6b35592e22",
   "metadata": {},
   "outputs": [
    {
     "data": {
      "text/plain": [
       "1.5617625377055315"
      ]
     },
     "execution_count": 25,
     "metadata": {},
     "output_type": "execute_result"
    }
   ],
   "source": [
    "# flux through loop roughly the same regarless of probe meshing\n",
    "flux_through_loop = np.sum(flux_arr)\n",
    "flux_through_loop"
   ]
  },
  {
   "cell_type": "markdown",
   "id": "8a9136e5",
   "metadata": {},
   "source": [
    "## Sweeping the position of the SQUID loop and calculating the flux"
   ]
  },
  {
   "cell_type": "code",
   "execution_count": 39,
   "id": "97318d18-7251-4adf-9980-04d036a445fc",
   "metadata": {},
   "outputs": [
    {
     "name": "stdout",
     "output_type": "stream",
     "text": [
      "0 0\n",
      "0 1\n",
      "0 2\n",
      "0 3\n",
      "0 4\n",
      "0 5\n",
      "0 6\n",
      "0 7\n",
      "0 8\n",
      "0 9\n",
      "0 10\n",
      "0 11\n",
      "0 12\n",
      "0 13\n",
      "0 14\n",
      "0 15\n",
      "0 16\n",
      "0 17\n",
      "0 18\n",
      "0 19\n",
      "0 20\n",
      "0 21\n",
      "0 22\n",
      "0 23\n",
      "0 24\n",
      "0 25\n",
      "0 26\n",
      "0 27\n",
      "0 28\n",
      "0 29\n",
      "0 30\n",
      "0 31\n",
      "0 32\n",
      "0 33\n",
      "0 34\n",
      "0 35\n",
      "0 36\n",
      "0 37\n",
      "0 38\n",
      "0 39\n",
      "1 0\n",
      "1 10\n",
      "1 20\n",
      "1 30\n",
      "2 0\n",
      "2 10\n",
      "2 20\n",
      "2 30\n",
      "3 0\n",
      "3 10\n",
      "3 20\n",
      "3 30\n",
      "4 0\n",
      "4 10\n",
      "4 20\n",
      "4 30\n",
      "5 0\n",
      "5 10\n",
      "5 20\n",
      "5 30\n",
      "6 0\n",
      "6 10\n",
      "6 20\n",
      "6 30\n",
      "7 0\n",
      "7 10\n",
      "7 20\n",
      "7 30\n",
      "8 0\n",
      "8 10\n",
      "8 20\n",
      "8 30\n",
      "9 0\n",
      "9 10\n",
      "9 20\n",
      "9 30\n",
      "10 0\n",
      "10 1\n",
      "10 2\n",
      "10 3\n",
      "10 4\n",
      "10 5\n",
      "10 6\n",
      "10 7\n",
      "10 8\n",
      "10 9\n",
      "10 10\n",
      "10 11\n",
      "10 12\n",
      "10 13\n",
      "10 14\n",
      "10 15\n",
      "10 16\n",
      "10 17\n",
      "10 18\n",
      "10 19\n",
      "10 20\n",
      "10 21\n",
      "10 22\n",
      "10 23\n",
      "10 24\n",
      "10 25\n",
      "10 26\n",
      "10 27\n",
      "10 28\n",
      "10 29\n",
      "10 30\n",
      "10 31\n",
      "10 32\n",
      "10 33\n",
      "10 34\n",
      "10 35\n",
      "10 36\n",
      "10 37\n",
      "10 38\n",
      "10 39\n",
      "11 0\n",
      "11 10\n",
      "11 20\n",
      "11 30\n",
      "12 0\n",
      "12 10\n",
      "12 20\n",
      "12 30\n",
      "13 0\n",
      "13 10\n",
      "13 20\n",
      "13 30\n",
      "14 0\n",
      "14 10\n",
      "14 20\n",
      "14 30\n",
      "15 0\n",
      "15 10\n",
      "15 20\n",
      "15 30\n",
      "16 0\n",
      "16 10\n",
      "16 20\n",
      "16 30\n",
      "17 0\n",
      "17 10\n",
      "17 20\n",
      "17 30\n",
      "18 0\n",
      "18 10\n",
      "18 20\n",
      "18 30\n",
      "19 0\n",
      "19 10\n",
      "19 20\n",
      "19 30\n",
      "20 0\n",
      "20 1\n",
      "20 2\n",
      "20 3\n",
      "20 4\n",
      "20 5\n",
      "20 6\n",
      "20 7\n",
      "20 8\n",
      "20 9\n",
      "20 10\n",
      "20 11\n",
      "20 12\n",
      "20 13\n",
      "20 14\n",
      "20 15\n",
      "20 16\n",
      "20 17\n",
      "20 18\n",
      "20 19\n",
      "20 20\n",
      "20 21\n",
      "20 22\n",
      "20 23\n",
      "20 24\n",
      "20 25\n",
      "20 26\n",
      "20 27\n",
      "20 28\n",
      "20 29\n",
      "20 30\n",
      "20 31\n",
      "20 32\n",
      "20 33\n",
      "20 34\n",
      "20 35\n",
      "20 36\n",
      "20 37\n",
      "20 38\n",
      "20 39\n",
      "21 0\n",
      "21 10\n",
      "21 20\n",
      "21 30\n",
      "22 0\n",
      "22 10\n",
      "22 20\n",
      "22 30\n",
      "23 0\n",
      "23 10\n",
      "23 20\n",
      "23 30\n",
      "24 0\n",
      "24 10\n",
      "24 20\n",
      "24 30\n",
      "25 0\n",
      "25 10\n",
      "25 20\n",
      "25 30\n",
      "26 0\n",
      "26 10\n",
      "26 20\n",
      "26 30\n",
      "27 0\n",
      "27 10\n",
      "27 20\n",
      "27 30\n",
      "28 0\n",
      "28 10\n",
      "28 20\n",
      "28 30\n",
      "29 0\n",
      "29 10\n",
      "29 20\n",
      "29 30\n",
      "30 0\n",
      "30 1\n",
      "30 2\n",
      "30 3\n",
      "30 4\n",
      "30 5\n",
      "30 6\n",
      "30 7\n",
      "30 8\n",
      "30 9\n",
      "30 10\n",
      "30 11\n",
      "30 12\n",
      "30 13\n",
      "30 14\n",
      "30 15\n",
      "30 16\n",
      "30 17\n",
      "30 18\n",
      "30 19\n",
      "30 20\n",
      "30 21\n",
      "30 22\n",
      "30 23\n",
      "30 24\n",
      "30 25\n",
      "30 26\n",
      "30 27\n",
      "30 28\n",
      "30 29\n",
      "30 30\n",
      "30 31\n",
      "30 32\n",
      "30 33\n",
      "30 34\n",
      "30 35\n",
      "30 36\n",
      "30 37\n",
      "30 38\n",
      "30 39\n",
      "31 0\n",
      "31 10\n",
      "31 20\n",
      "31 30\n",
      "32 0\n",
      "32 10\n",
      "32 20\n",
      "32 30\n",
      "33 0\n",
      "33 10\n",
      "33 20\n",
      "33 30\n",
      "34 0\n",
      "34 10\n",
      "34 20\n",
      "34 30\n",
      "35 0\n",
      "35 10\n",
      "35 20\n",
      "35 30\n",
      "36 0\n",
      "36 10\n",
      "36 20\n",
      "36 30\n",
      "37 0\n",
      "37 10\n",
      "37 20\n",
      "37 30\n",
      "38 0\n",
      "38 10\n",
      "38 20\n",
      "38 30\n",
      "39 0\n",
      "39 10\n",
      "39 20\n",
      "39 30\n"
     ]
    }
   ],
   "source": [
    "x_min_probe_sweep = -100*nm\n",
    "x_max_probe_sweep = 100*nm\n",
    "y_min_probe_sweep = -100*nm\n",
    "y_max_probe_sweep = 100*nm\n",
    "\n",
    "nx_sweep = int((x_max_probe_sweep-x_min_probe_sweep)/del_x)\n",
    "ny_sweep = int((y_max_probe_sweep-y_min_probe_sweep)/del_y)\n",
    "\n",
    "x_probe_sweep = np.linspace(x_min_probe_sweep, x_max_probe_sweep, num=nx_sweep)\n",
    "y_probe_sweep = np.linspace(y_min_probe_sweep, y_max_probe_sweep, num=ny_sweep)\n",
    "\n",
    "flux_results = np.zeros((nx_sweep, ny_sweep))\n",
    "\n",
    "for ix, x_p in enumerate(x_probe_sweep):\n",
    "    for iy, y_p in enumerate(y_probe_sweep):\n",
    "        if ix%10 == 0 or iy%10 == 0:\n",
    "            print(ix, iy)\n",
    "        meshing_probe = (int(probe_side/delta_a), int(probe_side/delta_a)) # nx, ny\n",
    "        da_probe = probe_side/meshing_probe[0]\n",
    "        coord_calc = (x_p, y_p, dist_to_sample)\n",
    "\n",
    "        xt, yt = np.meshgrid(np.arange(meshing_probe[0]), np.arange(meshing_probe[1]))\n",
    "\n",
    "        coord_calc_array = np.zeros((meshing_probe[0]*meshing_probe[1],3))\n",
    "        coord_calc_array[:,0] = coord_calc[0]-probe_side/2 + delta_a*(xt.flatten() + 0.5)\n",
    "        coord_calc_array[:,1] = coord_calc[1]-probe_side/2 + delta_a*(yt.flatten() + 0.5)\n",
    "        coord_calc_array[:,2] = coord_calc[2]\n",
    "\n",
    "        B_probe_units = B_at_coord_vec_3(coord_calc_array, M_array, sample_dimensions, sample_discretization_size, sample_grid)\n",
    "\n",
    "        B_probe_z = B_probe_units[:,2]\n",
    "        flux_arr = B_probe_z.reshape(meshing_probe)*(da_probe**2)\n",
    "        flux_results[ix, iy] = np.sum(flux_arr)\n",
    "        \n",
    "                            \n",
    "                            "
   ]
  },
  {
   "cell_type": "code",
   "execution_count": 40,
   "id": "47729056",
   "metadata": {},
   "outputs": [
    {
     "name": "stderr",
     "output_type": "stream",
     "text": [
      "/var/folders/zx/flxs9k9j3q1fr05sp0xh1kj40000gn/T/ipykernel_30713/1547306755.py:2: MatplotlibDeprecationWarning: shading='flat' when X and Y have the same dimensions as C is deprecated since 3.3.  Either specify the corners of the quadrilaterals with X and Y, or pass shading='auto', 'nearest' or 'gouraud', or set rcParams['pcolor.shading'].  This will become an error two minor releases later.\n",
      "  im = plt.pcolormesh(np.linspace(-100,100,nx_sweep), np.linspace(-100,100,ny_sweep), flux_results)\n"
     ]
    },
    {
     "data": {
      "text/plain": [
       "<matplotlib.colorbar.Colorbar at 0x7fab18067cd0>"
      ]
     },
     "execution_count": 40,
     "metadata": {},
     "output_type": "execute_result"
    },
    {
     "data": {
      "image/png": "[encoded data removed]",
      "text/plain": [
       "<Figure size 432x288 with 2 Axes>"
      ]
     },
     "metadata": {
      "needs_background": "light"
     },
     "output_type": "display_data"
    }
   ],
   "source": [
    "fig, ax = plt.subplots()\n",
    "im = plt.pcolormesh(np.linspace(-100,100,nx_sweep), np.linspace(-100,100,ny_sweep), flux_results)\n",
    "fig.colorbar(im, ax=ax)"
   ]
  },
  {
   "cell_type": "code",
   "execution_count": 41,
   "id": "c0f2675e-8a78-42ef-85ce-db51469c1e5e",
   "metadata": {},
   "outputs": [],
   "source": [
    "np.savetxt('flux_arr_1.txt', flux_results)"
   ]
  },
  {
   "cell_type": "markdown",
   "id": "aad2c8b4",
   "metadata": {},
   "source": [
    "## Generating rotated samples"
   ]
  },
  {
   "cell_type": "code",
   "execution_count": null,
   "id": "69eecc7b",
   "metadata": {},
   "outputs": [],
   "source": [
    "# Ideal ferromagnet\n",
    "\n",
    "# Define size and meshing\n",
    "x_sample_size = 100*nm\n",
    "y_sample_size = 100*nm\n",
    "z_sample_size = 10*nm\n",
    "\n",
    "x_discretization_size = 5*nm\n",
    "y_discretization_size = 5*nm\n",
    "z_discretization_size = 10*nm\n",
    "\n",
    "nx = int(x_sample_size/x_discretization_size)\n",
    "ny = int(y_sample_size/y_discretization_size)\n",
    "nz = int(z_sample_size/z_discretization_size)\n",
    "print('Original dimensions (x, y ,z) in nm: ', x_sample_size/nm, y_sample_size/nm, z_sample_size/nm)\n",
    "print('Dimensions after discretization (x, y ,z) in nm: ', nx*x_discretization_size/nm, ny*y_discretization_size/nm, nz*z_discretization_size/nm)\n",
    "\n",
    "sample_dimensions = (x_sample_size, y_sample_size, z_sample_size)\n",
    "sample_discretization_size = (x_discretization_size, y_discretization_size, z_discretization_size)\n",
    "sample_grid = (nx, ny, nz)\n",
    "\n",
    "# Stores magnetization as three values for each position coordinate: m_i, theta_i, phi_i\n",
    "M_array = np.zeros((nx, ny, nz, 3))\n",
    "M_array[:,:,:,0] = np.ones((nx, ny, nz))\n",
    "M_array[:,:,:,1] = np.zeros((nx, ny, nz))\n",
    "M_array[:,:,:,2] = np.zeros((nx, ny, nz))\n",
    "\n",
    "# Stores magnetization as three values for each position coordinate: m_i_x, m_i_y, m_i_z\n",
    "M_array_cartesian = np.ones_like(M_array) \n",
    "M_array_cartesian[:,:,:,2] = np.multiply(M_array[:,:,:,0], np.cos(M_array[:,:,:,1]))\n",
    "M_array_cartesian[:,:,:,0] = np.multiply(np.multiply(M_array[:,:,:,0], np.sin(M_array[:,:,:,1])), np.cos(M_array[:,:,:,2]))\n",
    "M_array_cartesian[:,:,:,1] = np.multiply(np.multiply(M_array[:,:,:,0], np.sin(M_array[:,:,:,1])), np.sin(M_array[:,:,:,2]))\n"
   ]
  },
  {
   "cell_type": "code",
   "execution_count": 104,
   "id": "ee8549bb",
   "metadata": {},
   "outputs": [],
   "source": [
    "def generate_rotated_ferromagnets(sample_sizes: Tuple[float, float, float], \n",
    "                                 discretization_sizes: Tuple[float, float, float],\n",
    "                                 number_of_samples: int,\n",
    "                                 m_i_uniform_magnitude: float) -> Tuple[np.ndarray, np.ndarray]:\n",
    "    \n",
    "    x_sample_size, y_sample_size, z_sample_size = sample_sizes\n",
    "    x_discretization_size, y_discretization_size, z_discretization_size = discretization_sizes\n",
    "    \n",
    "    nx = int(x_sample_size/x_discretization_size)\n",
    "    ny = int(y_sample_size/y_discretization_size)\n",
    "    nz = int(z_sample_size/z_discretization_size)\n",
    "    \n",
    "    n_dipoles = nx*ny*nz\n",
    "    \n",
    "    center_coord_grid = np.mgrid[0:nx, 0:ny, 0:nz]\n",
    "    x_0_i_arr = (center_coord_grid[0,:,:,:].copy()*x_discretization_size -x_sample_size/2+x_discretization_size/2).flatten() \n",
    "    y_0_i_arr = (center_coord_grid[1,:,:,:].copy()*y_discretization_size -y_sample_size/2+y_discretization_size/2).flatten()\n",
    "    z_0_i_arr = (center_coord_grid[2,:,:,:].copy()*z_discretization_size -z_sample_size/2+z_discretization_size/2).flatten()\n",
    "    coords_0_array = np.column_stack((x_0_i_arr, y_0_i_arr, z_0_i_arr)) #.reshape((nx,ny,nz, 3))\n",
    "    \n",
    "    M_array = np.zeros((nx, ny, nz, 3))\n",
    "    M_array[:,:,:,0] = np.ones((nx, ny, nz))*m_i_uniform_magnitude\n",
    "    M_array[:,:,:,1] = np.ones((nx, ny, nz))\n",
    "    M_array[:,:,:,2] = np.ones((nx, ny, nz))\n",
    "    \n",
    "    M_array_cartesian = np.ones_like(M_array) \n",
    "    M_array_cartesian[:,:,:,2] = np.multiply(M_array[:,:,:,0], np.cos(M_array[:,:,:,1]))\n",
    "    M_array_cartesian[:,:,:,0] = np.multiply(np.multiply(M_array[:,:,:,0], np.sin(M_array[:,:,:,1])), np.cos(M_array[:,:,:,2]))\n",
    "    M_array_cartesian[:,:,:,1] = np.multiply(np.multiply(M_array[:,:,:,0], np.sin(M_array[:,:,:,1])), np.sin(M_array[:,:,:,2]))\n",
    "    \n",
    "    M_array_rotated = np.zeros((number_of_samples, nx, ny, nz, 3))\n",
    "    center_coords_rotated = np.zeros((number_of_samples, nx, ny, nz, 3))\n",
    "    \n",
    "    for i in range(number_of_samples):\n",
    "        theta_i_N = np.random.rand()*np.pi*2\n",
    "        phi_i_N = np.random.rand()*np.pi*2\n",
    "        \n",
    "        M_array_rotated[i,:,:,:,0] = np.ones((nx, ny, nz))*m_i_uniform_magnitude\n",
    "        M_array_rotated[i,:,:,:,1] = np.ones((nx, ny, nz))*theta_i_N\n",
    "        M_array_rotated[i,:,:,:,2] = np.ones((nx, ny, nz))*phi_i_N\n",
    "        \n",
    "        angle_single_pair = np.array([theta_i_N, phi_i_N])\n",
    "        angles_tuple = np.array(list(map(np.copy, [angle_single_pair] * n_dipoles)))\n",
    "        angles_extended = angles_tuple.reshape((n_dipoles, 2))\n",
    "        \n",
    "        rot_matrices = rot_vec(angles_extended)\n",
    "        rotated_coords_0 = np.einsum('ijk,ikl -> ijl', rot_matrices, coords_0_array.reshape((n_dipoles, 3, 1)))\n",
    "        \n",
    "        center_coords_rotated[i,:,:,:,:] = rotated_coords_0.reshape((nx,ny,nz, 3))\n",
    "        \n",
    "    return M_array_rotated, center_coords_rotated\n",
    "        \n",
    "        \n",
    "        \n",
    "        "
   ]
  },
  {
   "cell_type": "markdown",
   "id": "79464130",
   "metadata": {},
   "source": [
    "### Santiy Check 1"
   ]
  },
  {
   "cell_type": "code",
   "execution_count": 84,
   "id": "a7976e01",
   "metadata": {},
   "outputs": [],
   "source": [
    "x_sample_size = 100*nm\n",
    "y_sample_size = 100*nm\n",
    "z_sample_size = 10*nm\n",
    "\n",
    "x_discretization_size = 5*nm\n",
    "y_discretization_size = 5*nm\n",
    "z_discretization_size = 10*nm\n",
    "\n",
    "nx = int(x_sample_size/x_discretization_size)\n",
    "ny = int(y_sample_size/y_discretization_size)\n",
    "nz = int(z_sample_size/z_discretization_size)\n",
    "    \n",
    "n_dipoles = nx*ny*nz\n",
    "    \n",
    "center_coord_grid = np.mgrid[0:nx, 0:ny, 0:nz]\n",
    "x_0_i_arr = (center_coord_grid[0,:,:,:].copy()*x_discretization_size -x_sample_size/2+x_discretization_size/2).flatten() \n",
    "y_0_i_arr = (center_coord_grid[1,:,:,:].copy()*y_discretization_size -y_sample_size/2+y_discretization_size/2).flatten()\n",
    "z_0_i_arr = (center_coord_grid[2,:,:,:].copy()*z_discretization_size -z_sample_size/2+z_discretization_size/2).flatten()\n",
    "coords_0_array = np.column_stack((x_0_i_arr, y_0_i_arr, z_0_i_arr)).reshape((nx,ny,nz, 3)) #.reshape((n_dipoles, 3))"
   ]
  },
  {
   "cell_type": "code",
   "execution_count": 97,
   "id": "38dbed2f",
   "metadata": {},
   "outputs": [
    {
     "name": "stdout",
     "output_type": "stream",
     "text": [
      "If we rotate the plane by theta=np.pi/2 phi=np.pi/2, we expect the corners to move from the xy plane to the xz plane with the (-,-,0) corner at (+,0, +)\n",
      "We obtain:  [[ 4.7500000e-08 -5.8170723e-24  4.7500000e-08]]\n",
      "If we rotate the plane by theta=np.pi/2 phi=np.pi/2, we expect the corners to move from the xy plane to the xz plane with the (+,-,0) corner at (+,0,-)\n",
      "We obtain:  [[ 4.75e-08  0.00e+00 -4.75e-08]]\n"
     ]
    }
   ],
   "source": [
    "print('If we rotate the plane by theta=np.pi/2 phi=np.pi/2, we expect the corners to move from the xy plane to the xz plane with the (-,-,0) corner at (+,0, +)')\n",
    "\n",
    "test_rot = np.linalg.inv(rot_vec(np.array([[-np.pi/2, -np.pi/2]])))\n",
    "test_vec = coords_0_array[0,0,0,:]\n",
    "print('We obtain: ', np.matmul(test_rot, test_vec))\n",
    "\n",
    "print('If we rotate the plane by theta=np.pi/2 phi=np.pi/2, we expect the corners to move from the xy plane to the xz plane with the (+,-,0) corner at (+,0,-)')\n",
    "\n",
    "test_rot = np.linalg.inv(rot_vec(np.array([[-np.pi/2, -np.pi/2]])))\n",
    "test_vec = coords_0_array[-1,0,0,:]\n",
    "print('We obtain: ', np.matmul(test_rot, test_vec))"
   ]
  },
  {
   "cell_type": "markdown",
   "id": "067ef5d0",
   "metadata": {},
   "source": [
    "### Sanity Check 2"
   ]
  },
  {
   "cell_type": "code",
   "execution_count": 109,
   "id": "c2585942",
   "metadata": {},
   "outputs": [
    {
     "name": "stdout",
     "output_type": "stream",
     "text": [
      "Should have a rotated M_array but zero vector for coords_0.\n",
      "We obtain:\n",
      "M_array = [[[[[1.         2.20335203 0.31242871]]]]]\n",
      "coords_0 = [[[[[0. 0. 0.]]]]]\n"
     ]
    }
   ],
   "source": [
    "sample_sizes = (1*nm, 1*nm, 1*nm)\n",
    "discretization_sizes = (1*nm, 1*nm, 1*nm)\n",
    "number_of_samples = 1\n",
    "m_i_uniform_magnitude = 1.0\n",
    "\n",
    "M_arr_rot, coord_arr_rot = generate_rotated_ferromagnets(sample_sizes, \n",
    "                                 discretization_sizes,\n",
    "                                 number_of_samples,\n",
    "                                 m_i_uniform_magnitude)\n",
    "\n",
    "print('Should have a rotated M_array but zero vector for coords_0.')\n",
    "print('We obtain:')\n",
    "print('M_array =', M_arr_rot)\n",
    "print('coords_0 =', coord_arr_rot)"
   ]
  },
  {
   "cell_type": "code",
   "execution_count": 113,
   "id": "b495fee2",
   "metadata": {},
   "outputs": [
    {
     "name": "stdout",
     "output_type": "stream",
     "text": [
      "Should have a rotated M_array and the corner vectors will contain symmetries.\n",
      "We obtain:\n",
      "M_array = [[[[[1.         2.21342979 4.66628613]]\n",
      "\n",
      "   [[1.         2.21342979 4.66628613]]]\n",
      "\n",
      "\n",
      "  [[[1.         2.21342979 4.66628613]]\n",
      "\n",
      "   [[1.         2.21342979 4.66628613]]]]]\n",
      "coords_0 = [[[[[ 0.28552448  0.52251199  0.38138825]]\n",
      "\n",
      "   [[-0.31314439  0.47642547 -0.41828145]]]\n",
      "\n",
      "\n",
      "  [[[ 0.31314439 -0.47642547  0.41828145]]\n",
      "\n",
      "   [[-0.28552448 -0.52251199 -0.38138825]]]]]\n"
     ]
    }
   ],
   "source": [
    "sample_sizes = (2*nm, 2*nm, 1*nm)\n",
    "discretization_sizes = (1*nm, 1*nm, 1*nm)\n",
    "number_of_samples = 1\n",
    "m_i_uniform_magnitude = 1.0\n",
    "\n",
    "M_arr_rot, coord_arr_rot = generate_rotated_ferromagnets(sample_sizes, \n",
    "                                 discretization_sizes,\n",
    "                                 number_of_samples,\n",
    "                                 m_i_uniform_magnitude)\n",
    "\n",
    "print('Should have a rotated M_array and the corner vectors will contain symmetries.')\n",
    "print('We obtain:')\n",
    "print('M_array =', M_arr_rot)\n",
    "print('coords_0 =', coord_arr_rot/nm)"
   ]
  },
  {
   "cell_type": "markdown",
   "id": "22a110f8",
   "metadata": {},
   "source": [
    "### Sanity Check 3"
   ]
  },
  {
   "cell_type": "code",
   "execution_count": 140,
   "id": "f258581d",
   "metadata": {},
   "outputs": [
    {
     "data": {
      "text/plain": [
       "Text(0.5, 0, 'Z')"
      ]
     },
     "execution_count": 140,
     "metadata": {},
     "output_type": "execute_result"
    },
    {
     "data": {
      "image/png": "[encoded data removed]",
      "text/plain": [
       "<Figure size 432x288 with 1 Axes>"
      ]
     },
     "metadata": {
      "needs_background": "light"
     },
     "output_type": "display_data"
    }
   ],
   "source": [
    "# START HERE!!! Visualizing rotated sample\n",
    "ax = plt.figure().add_subplot(projection='3d')\n",
    "\n",
    "x = coord_arr_rot[:,:,:,0,0]\n",
    "y = coord_arr_rot[:,:,:,0,1]\n",
    "z = coord_arr_rot[:,:,:,0,2]\n",
    "\n",
    "M_array_cartesian = np.ones_like(M_arr_rot[:,:,:,0,:]) \n",
    "M_array_cartesian[:,:,:,2] = np.multiply(M_arr_rot[:,:,:,0,0], np.cos(M_arr_rot[:,:,:,0,1]))\n",
    "M_array_cartesian[:,:,:,0] = np.multiply(np.multiply(M_arr_rot[:,:,:,0,0], np.sin(M_arr_rot[:,:,:,0,1])), np.cos(M_arr_rot[:,:,:,0,2]))\n",
    "M_array_cartesian[:,:,:,1] = np.multiply(np.multiply(M_arr_rot[:,:,:,0,0], np.sin(M_arr_rot[:,:,:,0,1])), np.sin(M_arr_rot[:,:,:,0,2]))\n",
    "\n",
    "u = M_array_cartesian[:,:,:,0]\n",
    "v = M_array_cartesian[:,:,:,1]\n",
    "w = M_array_cartesian[:,:,:,2]\n",
    "\n",
    "ax.quiver(x, y, z, u, v, w, length=0.75*z_discretization_size/nm, normalize=False)\n",
    "ax.set_xlim(-50, 50)\n",
    "ax.set_ylim(-50, 50)\n",
    "ax.set_zlim(-50, 50)\n",
    "ax.set_xlabel('X')\n",
    "ax.set_ylabel('Y')\n",
    "ax.set_zlabel('Z')"
   ]
  },
  {
   "cell_type": "code",
   "execution_count": 142,
   "id": "112b150d",
   "metadata": {},
   "outputs": [
    {
     "data": {
      "text/plain": [
       "(1, 2, 2, 3)"
      ]
     },
     "execution_count": 142,
     "metadata": {},
     "output_type": "execute_result"
    }
   ],
   "source": [
    "M_array_cartesian.shape"
   ]
  },
  {
   "cell_type": "code",
   "execution_count": 135,
   "id": "4a9fbae4",
   "metadata": {},
   "outputs": [
    {
     "data": {
      "text/plain": [
       "array([[[ 5.22511985e-10,  4.76425467e-10],\n",
       "        [-4.76425467e-10, -5.22511985e-10]]])"
      ]
     },
     "execution_count": 135,
     "metadata": {},
     "output_type": "execute_result"
    }
   ],
   "source": [
    "y"
   ]
  },
  {
   "cell_type": "code",
   "execution_count": 136,
   "id": "968641b0",
   "metadata": {},
   "outputs": [
    {
     "data": {
      "text/plain": [
       "array([[[ 3.81388252e-10, -4.18281445e-10],\n",
       "        [ 4.18281445e-10, -3.81388252e-10]]])"
      ]
     },
     "execution_count": 136,
     "metadata": {},
     "output_type": "execute_result"
    }
   ],
   "source": [
    "z"
   ]
  },
  {
   "cell_type": "code",
   "execution_count": 137,
   "id": "7729a190",
   "metadata": {},
   "outputs": [],
   "source": [
    "x_1, y_1, z_1 = np.meshgrid(x, y, z)"
   ]
  },
  {
   "cell_type": "code",
   "execution_count": null,
   "id": "6eff40d2",
   "metadata": {},
   "outputs": [],
   "source": []
  }
 ],
 "metadata": {
  "kernelspec": {
   "display_name": "Python 3 (ipykernel)",
   "language": "python",
   "name": "python3"
  },
  "language_info": {
   "codemirror_mode": {
    "name": "ipython",
    "version": 3
   },
   "file_extension": ".py",
   "mimetype": "text/x-python",
   "name": "python",
   "nbconvert_exporter": "python",
   "pygments_lexer": "ipython3",
   "version": "3.9.7"
  }
 },
 "nbformat": 4,
 "nbformat_minor": 5
}
